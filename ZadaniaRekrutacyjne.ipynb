{
 "cells": [
  {
   "cell_type": "markdown",
   "metadata": {},
   "source": [
    "### Zadanie 1 - Paradoks Simpsona##"
   ]
  },
  {
   "cell_type": "markdown",
   "metadata": {},
   "source": [
    "Paradoks Simpsona mówi o tym, że badając pewne zjawisko możemy otrzymywać inne wyniki w przypadku rozpatrywania badanych grup odzielnie a inne, często odwrotne, jeśli dokonamy połączenia badanych grup."
   ]
  },
  {
   "cell_type": "markdown",
   "metadata": {},
   "source": [
    "#### Przykład:  Psy czy koty? ####"
   ]
  },
  {
   "cell_type": "markdown",
   "metadata": {},
   "source": [
    "Chcemy sprawdzić które ze zwierzaków są bardziej popularne, więc przepytujemy znajomych. Wśród nich mamy zarówno kobiety jak i mężczyzn, więc dzielimy wyniki naszego wywiadu na dwie grupy. Okazuje się, że wśród naszych kolegów psy cieszą się dużo większą popularnością - aż 80%, podczas gdy tylko 40% koleżanek preferuje psy. Tak więc koty lubi zaledwie 20% naszych przyjaciół oraz 60% przyjaciółek. Wydawać by się mogło, że większość naszych przyjaciół wolałaby mieć psa. Jednak po podsumowaniu wyników okazuje się, że podział na fanów kotów i psów wśród znajomych jest prawie 50:50."
   ]
  },
  {
   "cell_type": "code",
   "execution_count": 31,
   "metadata": {
    "collapsed": false
   },
   "outputs": [
    {
     "data": {
      "text/html": [
       "<div>\n",
       "<table border=\"1\" class=\"dataframe\">\n",
       "  <thead>\n",
       "    <tr style=\"text-align: right;\">\n",
       "      <th></th>\n",
       "      <th>M</th>\n",
       "      <th>K</th>\n",
       "      <th>Razem</th>\n",
       "    </tr>\n",
       "  </thead>\n",
       "  <tbody>\n",
       "    <tr>\n",
       "      <th>Psy</th>\n",
       "      <td>80%</td>\n",
       "      <td>40%</td>\n",
       "      <td>48%</td>\n",
       "    </tr>\n",
       "    <tr>\n",
       "      <th>Koty</th>\n",
       "      <td>20%</td>\n",
       "      <td>60%</td>\n",
       "      <td>52%</td>\n",
       "    </tr>\n",
       "  </tbody>\n",
       "</table>\n",
       "</div>"
      ],
      "text/plain": [
       "        M    K Razem\n",
       "Psy   80%  40%   48%\n",
       "Koty  20%  60%   52%"
      ]
     },
     "execution_count": 31,
     "metadata": {},
     "output_type": "execute_result"
    }
   ],
   "source": [
    "import pandas as pd\n",
    "import numpy as np\n",
    "col = ['M', 'K', 'Razem']\n",
    "zw = ['Psy', 'Koty']\n",
    "df = pd.DataFrame(np.array(['80%', '40%', '48%' ,'20%', '60%', '52%']).reshape((2,3)), columns=col, index = zw)\n",
    "df"
   ]
  },
  {
   "cell_type": "markdown",
   "metadata": {},
   "source": [
    "Skąd taka różnica? Wynika z różnej liczebności obu grup: kolegów mamy łącznie 5 a koleżanek aż 20."
   ]
  },
  {
   "cell_type": "code",
   "execution_count": 30,
   "metadata": {
    "collapsed": false
   },
   "outputs": [
    {
     "data": {
      "text/html": [
       "<div>\n",
       "<table border=\"1\" class=\"dataframe\">\n",
       "  <thead>\n",
       "    <tr style=\"text-align: right;\">\n",
       "      <th></th>\n",
       "      <th>M</th>\n",
       "      <th>K</th>\n",
       "      <th>Razem</th>\n",
       "    </tr>\n",
       "  </thead>\n",
       "  <tbody>\n",
       "    <tr>\n",
       "      <th>Psy</th>\n",
       "      <td>4</td>\n",
       "      <td>8</td>\n",
       "      <td>12</td>\n",
       "    </tr>\n",
       "    <tr>\n",
       "      <th>Koty</th>\n",
       "      <td>1</td>\n",
       "      <td>12</td>\n",
       "      <td>13</td>\n",
       "    </tr>\n",
       "  </tbody>\n",
       "</table>\n",
       "</div>"
      ],
      "text/plain": [
       "      M   K  Razem\n",
       "Psy   4   8     12\n",
       "Koty  1  12     13"
      ]
     },
     "execution_count": 30,
     "metadata": {},
     "output_type": "execute_result"
    }
   ],
   "source": [
    "df2 = pd.DataFrame(np.array([4, 8, 12, 1, 12, 13]).reshape((2,3)), columns=col, index=zw)\n",
    "df2"
   ]
  },
  {
   "cell_type": "markdown",
   "metadata": {},
   "source": [
    "#### Wpływ na metody pomiaru kampanii marketingowych ####"
   ]
  },
  {
   "cell_type": "markdown",
   "metadata": {},
   "source": [
    "Wystarczy, że w powyższym przykładzie zastąpimy Psy i Koty dwiema kampaniami marketingowymi przeprowadzanymi na różnych grupach docelowych - chociażby na mężczyznach i kobietach. Jeśli uznamy, że na pierwszą kampanię marketingową odpowiedziało 80% mężczyzn i 40% kobiet a na drugą 20% mężczyzn i 60% kobiet, bez podawania liczebności każdej z płci możemy otrzymać błędne oszacowanie skuteczności kampanii - które w rzeczywistości są prawie tak samo skuteczne.\n",
    "\n",
    "---"
   ]
  },
  {
   "cell_type": "markdown",
   "metadata": {},
   "source": [
    "### Zadanie 2 - Raport skuteczności kampanii marketingowej ###"
   ]
  },
  {
   "cell_type": "markdown",
   "metadata": {},
   "source": [
    "Aby ocenić skuteczność kampanii marketingowej musimy sprawdzić, czy średnia wartość zakupów w serwisie Allegro w okresie od 1 lutego do 31 marca była istotnie większa wśród osób do których skierowano kampanię w porównaniu do tych, do których nie wysłano materiałów zachęcających do dokonania zakupów."
   ]
  },
  {
   "cell_type": "markdown",
   "metadata": {},
   "source": [
    "1\\. Stworzenie zbioru składającego się z klientów, którzy zrobili zakupy na Allegro w ciągu tych dwóch miesięcy wraz z sumaryczną kwotą wydatków w tym okresie:\n",
    "Wybranie tych dla których ID_Sklepu = alg oraz Data_Trx zawiera się w ('2013-02-01','2013-03-31')"
   ]
  },
  {
   "cell_type": "markdown",
   "metadata": {},
   "source": [
    "2\\. Podział na dwa zbiory - jeden zawierający grupę kontrolną a drugi grupę odbiorców materiałów promocyjnych. "
   ]
  },
  {
   "cell_type": "markdown",
   "metadata": {},
   "source": [
    "3\\. Dla każdego z dwóch nowych zbiorów policzenie dla każdego klienta kwoty którą wydał w ciagu tych dwóch miesięcy za pomocą połączenia ze zbiorem z transakcjami."
   ]
  },
  {
   "cell_type": "markdown",
   "metadata": {},
   "source": [
    "4\\. Porównanie średnich dla obu grup - kontrolnej i odbiorców. Grupa osób do których wysłano materiały powinna mieć większą średnią wartość zakupów jeśli chcemy uznać kampanię za skuteczną."
   ]
  },
  {
   "cell_type": "code",
   "execution_count": 38,
   "metadata": {
    "collapsed": false
   },
   "outputs": [
    {
     "data": {
      "text/plain": [
       "[u'Tabela_transakcje', u'Tabela_historia_wysylki']"
      ]
     },
     "execution_count": 38,
     "metadata": {},
     "output_type": "execute_result"
    }
   ],
   "source": [
    "x1 = pd.ExcelFile('zadanie.xlsx')\n",
    "x1.sheet_names"
   ]
  },
  {
   "cell_type": "code",
   "execution_count": 42,
   "metadata": {
    "collapsed": false
   },
   "outputs": [
    {
     "data": {
      "text/html": [
       "<div>\n",
       "<table border=\"1\" class=\"dataframe\">\n",
       "  <thead>\n",
       "    <tr style=\"text-align: right;\">\n",
       "      <th></th>\n",
       "      <th>ID_KLIENTA</th>\n",
       "      <th>ID_SKLEPU</th>\n",
       "      <th>DATA_TRX</th>\n",
       "      <th>KWOTA</th>\n",
       "      <th>PUNKTY</th>\n",
       "    </tr>\n",
       "  </thead>\n",
       "  <tbody>\n",
       "    <tr>\n",
       "      <th>0</th>\n",
       "      <td>486</td>\n",
       "      <td>bp</td>\n",
       "      <td>2013-05-11</td>\n",
       "      <td>346.30</td>\n",
       "      <td>519</td>\n",
       "    </tr>\n",
       "    <tr>\n",
       "      <th>1</th>\n",
       "      <td>874</td>\n",
       "      <td>bp</td>\n",
       "      <td>2013-03-21</td>\n",
       "      <td>174.96</td>\n",
       "      <td>87</td>\n",
       "    </tr>\n",
       "    <tr>\n",
       "      <th>2</th>\n",
       "      <td>874</td>\n",
       "      <td>bp</td>\n",
       "      <td>2013-04-10</td>\n",
       "      <td>137.92</td>\n",
       "      <td>68</td>\n",
       "    </tr>\n",
       "    <tr>\n",
       "      <th>3</th>\n",
       "      <td>1844</td>\n",
       "      <td>real</td>\n",
       "      <td>2013-01-04</td>\n",
       "      <td>95.80</td>\n",
       "      <td>47</td>\n",
       "    </tr>\n",
       "    <tr>\n",
       "      <th>4</th>\n",
       "      <td>2426</td>\n",
       "      <td>real</td>\n",
       "      <td>2013-02-20</td>\n",
       "      <td>158.82</td>\n",
       "      <td>79</td>\n",
       "    </tr>\n",
       "  </tbody>\n",
       "</table>\n",
       "</div>"
      ],
      "text/plain": [
       "   ID_KLIENTA ID_SKLEPU   DATA_TRX   KWOTA  PUNKTY\n",
       "0         486        bp 2013-05-11  346.30     519\n",
       "1         874        bp 2013-03-21  174.96      87\n",
       "2         874        bp 2013-04-10  137.92      68\n",
       "3        1844      real 2013-01-04   95.80      47\n",
       "4        2426      real 2013-02-20  158.82      79"
      ]
     },
     "execution_count": 42,
     "metadata": {},
     "output_type": "execute_result"
    }
   ],
   "source": [
    "trans = x1.parse('Tabela_transakcje')\n",
    "hist = x1.parse('Tabela_historia_wysylki')\n",
    "trans.head()"
   ]
  },
  {
   "cell_type": "code",
   "execution_count": 120,
   "metadata": {
    "collapsed": false
   },
   "outputs": [],
   "source": [
    "allegro = trans.loc[trans['ID_SKLEPU']=='alg']\n",
    "allegro = allegro.loc[allegro['DATA_TRX'].isin(pd.date_range('2013-02-01', '2013-03-31'))]"
   ]
  },
  {
   "cell_type": "code",
   "execution_count": 121,
   "metadata": {
    "collapsed": false
   },
   "outputs": [],
   "source": [
    "all_sum = pd.DataFrame(allegro.groupby('ID_KLIENTA', as_index=False)['KWOTA'].sum())"
   ]
  },
  {
   "cell_type": "code",
   "execution_count": 119,
   "metadata": {
    "collapsed": false
   },
   "outputs": [
    {
     "data": {
      "text/html": [
       "<div>\n",
       "<table border=\"1\" class=\"dataframe\">\n",
       "  <thead>\n",
       "    <tr style=\"text-align: right;\">\n",
       "      <th></th>\n",
       "      <th>ID_KLIENTA</th>\n",
       "      <th>STATUS_WYSYLKI</th>\n",
       "    </tr>\n",
       "  </thead>\n",
       "  <tbody>\n",
       "    <tr>\n",
       "      <th>0</th>\n",
       "      <td>5045</td>\n",
       "      <td>GRUPA_KONTROLNA</td>\n",
       "    </tr>\n",
       "    <tr>\n",
       "      <th>1</th>\n",
       "      <td>5627</td>\n",
       "      <td>WYSLANO</td>\n",
       "    </tr>\n",
       "    <tr>\n",
       "      <th>2</th>\n",
       "      <td>5918</td>\n",
       "      <td>WYSLANO</td>\n",
       "    </tr>\n",
       "    <tr>\n",
       "      <th>3</th>\n",
       "      <td>8828</td>\n",
       "      <td>WYSLANO</td>\n",
       "    </tr>\n",
       "    <tr>\n",
       "      <th>4</th>\n",
       "      <td>13678</td>\n",
       "      <td>WYSLANO</td>\n",
       "    </tr>\n",
       "  </tbody>\n",
       "</table>\n",
       "</div>"
      ],
      "text/plain": [
       "   ID_KLIENTA   STATUS_WYSYLKI\n",
       "0        5045  GRUPA_KONTROLNA\n",
       "1        5627          WYSLANO\n",
       "2        5918          WYSLANO\n",
       "3        8828          WYSLANO\n",
       "4       13678          WYSLANO"
      ]
     },
     "execution_count": 119,
     "metadata": {},
     "output_type": "execute_result"
    }
   ],
   "source": [
    "hist.head()"
   ]
  },
  {
   "cell_type": "code",
   "execution_count": 141,
   "metadata": {
    "collapsed": false
   },
   "outputs": [
    {
     "name": "stdout",
     "output_type": "stream",
     "text": [
      "Średnia w grupie odbiorców różni się od średniej w grupie kontrolnej o -17.01 złotych.\n"
     ]
    }
   ],
   "source": [
    "gr_kontr = hist.loc[hist['STATUS_WYSYLKI']=='GRUPA_KONTROLNA'] #stworzenie zbioru dla grupy kontrolnej\n",
    "gr_odb = hist.loc[hist['STATUS_WYSYLKI']=='WYSLANO'] #stworzenie zbioru odbiorców kampanii\n",
    "gr_kontr_sum = pd.merge(gr_kontr, all_sum, on='ID_KLIENTA', how='left') #zbiór z sumami wydatków dla grupy kontrolnej\n",
    "_ = gr_kontr_sum['KWOTA'].fillna(0, inplace=True) # zastąpienie brakujących wartości zerami\n",
    "gr_odb_sum = pd.merge(gr_odb, all_sum, on='ID_KLIENTA', how='left') #zbiór z sumami dla grupy odbiorców\n",
    "_ = gr_odb_sum['KWOTA'].fillna(0, inplace=True) #zastąpienie brakujących wartości\n",
    "srednia = gr_odb_sum['KWOTA'].mean() - gr_kontr_sum['KWOTA'].mean() # porównanie średnich\n",
    "print 'Średnia w grupie odbiorców różni się od średniej w grupie kontrolnej o {} złotych.'.format(round(srednia,2))"
   ]
  },
  {
   "cell_type": "markdown",
   "metadata": {},
   "source": [
    "### Zadanie 3 - wsparcie analityczne komunikacji marketingowej ###"
   ]
  },
  {
   "cell_type": "markdown",
   "metadata": {},
   "source": [
    "Jakich metod analitycznych można użyć do wsparcia kampanii marketingowej, aby zwiększyć response rate z 1% do 2%."
   ]
  },
  {
   "cell_type": "markdown",
   "metadata": {},
   "source": [
    "Jeśli mamy pewną grupę klientów, która odpowiedziała pozytywnie na wcześniejszą kampanię najbardziej oczywistym wyborem jest skierowanie kolejnej do klientów o podobnym profilu - podobnych cechach demograficznych (wiek, miejsce zamieszkania), rodzaju sklepów w których robią zakupy, miesięcznych wydatkach itp. "
   ]
  },
  {
   "cell_type": "markdown",
   "metadata": {},
   "source": [
    "### Proponowana metoda - algorytm k-NN ###"
   ]
  },
  {
   "cell_type": "markdown",
   "metadata": {},
   "source": [
    "Metoda k-NN (k-najbliższych sąsiadów) służy do klasyfikacji obserwacji za pomocą wyznaczenia podobieństwa do innych obserwacjami. Podobieństwo między obserwacjami jest definiowane jako minimalizacja pewnej metryki."
   ]
  },
  {
   "cell_type": "markdown",
   "metadata": {},
   "source": [
    "Dane:  \n",
    "Posiadamy zbiór obserwacji z których każda posiada pewną ilość cech ją opisujących oraz wartość cechy którą chcemy przewidywać - 500 tysięcy klientów, do których skierowano kampanię pierwszą.  \n",
    "Posiadamy również zbiór obserwacji dla których chcemy prognozować pewną cechę (response rate) - zbiór 5 milionów klientów bazy Payback."
   ]
  },
  {
   "cell_type": "markdown",
   "metadata": {},
   "source": [
    "Algorytm polega na:  \n",
    "- porównaniu parametrów opisujących klienta dla którego chcemy prognozować odpowiedź na kampanię z wszystkimi klientami z pierwszej kampanii  \n",
    "- wyborze k innych klientów, najbardziej zbliżonych do badanego\n",
    "- najczęściej występującą wartość response rate wśród podobnych klientów przypisujemy badanemu, dzięki czemu uzyskujemy prognozę\n"
   ]
  },
  {
   "cell_type": "markdown",
   "metadata": {},
   "source": [
    "Ta metoda jest przydatna gdy zależność pomiędzy zmiennymi opisującymi klienta a odpowiedzią jest złożona lub nietypowa.\n"
   ]
  },
  {
   "cell_type": "code",
   "execution_count": null,
   "metadata": {
    "collapsed": true
   },
   "outputs": [],
   "source": []
  }
 ],
 "metadata": {
  "anaconda-cloud": {},
  "kernelspec": {
   "display_name": "Python [default]",
   "language": "python",
   "name": "python2"
  },
  "language_info": {
   "codemirror_mode": {
    "name": "ipython",
    "version": 2
   },
   "file_extension": ".py",
   "mimetype": "text/x-python",
   "name": "python",
   "nbconvert_exporter": "python",
   "pygments_lexer": "ipython2",
   "version": "2.7.12"
  }
 },
 "nbformat": 4,
 "nbformat_minor": 1
}
