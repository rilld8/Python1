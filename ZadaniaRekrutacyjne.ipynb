{
 "cells": [
  {
   "cell_type": "markdown",
   "metadata": {},
   "source": [
    "### Zadanie 1 - Paradoks Simpsona##"
   ]
  },
  {
   "cell_type": "markdown",
   "metadata": {},
   "source": [
    "Paradoks Simpsona mówi o tym, że badając pewne zjawisko możemy otrzymywać inne wyniki w przypadku rozpatrywania badanych grup odzielnie a inne, często odwrotne, jeśli dokonamy połączenia badanych grup."
   ]
  },
  {
   "cell_type": "markdown",
   "metadata": {},
   "source": [
    "#### Przykład:  Psy czy koty? ####"
   ]
  },
  {
   "cell_type": "markdown",
   "metadata": {},
   "source": [
    "Chcemy sprawdzić które ze zwierzaków są bardziej popularne, więc przepytujemy znajomych. Wśród nich mamy zarówno kobiety jak i mężczyzn, więc dzielimy wyniki naszego wywiadu na dwie grupy. Okazuje się, że wśród naszych kolegów psy cieszą się dużo większą popularnością - aż 80%, podczas gdy tylko 40% koleżanek preferuje psy. Tak więc koty lubi zaledwie 20% naszych przyjaciół oraz 60% przyjaciółek. Wydawać by się mogło, że większość naszych przyjaciół wolałaby mieć psa. Jednak po podsumowaniu wyników okazuje się, że podział na fanów kotów i psów wśród znajomych jest prawie 50:50."
   ]
  },
  {
   "cell_type": "code",
   "execution_count": 31,
   "metadata": {
    "collapsed": false
   },
   "outputs": [
    {
     "data": {
      "text/html": [
       "<div>\n",
       "<table border=\"1\" class=\"dataframe\">\n",
       "  <thead>\n",
       "    <tr style=\"text-align: right;\">\n",
       "      <th></th>\n",
       "      <th>M</th>\n",
       "      <th>K</th>\n",
       "      <th>Razem</th>\n",
       "    </tr>\n",
       "  </thead>\n",
       "  <tbody>\n",
       "    <tr>\n",
       "      <th>Psy</th>\n",
       "      <td>80%</td>\n",
       "      <td>40%</td>\n",
       "      <td>48%</td>\n",
       "    </tr>\n",
       "    <tr>\n",
       "      <th>Koty</th>\n",
       "      <td>20%</td>\n",
       "      <td>60%</td>\n",
       "      <td>52%</td>\n",
       "    </tr>\n",
       "  </tbody>\n",
       "</table>\n",
       "</div>"
      ],
      "text/plain": [
       "        M    K Razem\n",
       "Psy   80%  40%   48%\n",
       "Koty  20%  60%   52%"
      ]
     },
     "execution_count": 31,
     "metadata": {},
     "output_type": "execute_result"
    }
   ],
   "source": [
    "import pandas as pd\n",
    "import numpy as np\n",
    "col = ['M', 'K', 'Razem']\n",
    "zw = ['Psy', 'Koty']\n",
    "df = pd.DataFrame(np.array(['80%', '40%', '48%' ,'20%', '60%', '52%']).reshape((2,3)), columns=col, index = zw)\n",
    "df"
   ]
  },
  {
   "cell_type": "markdown",
   "metadata": {},
   "source": [
    "Skąd taka różnica? Wynika z różnej liczebności obu grup: kolegów mamy łącznie 5 a koleżanek aż 20."
   ]
  },
  {
   "cell_type": "code",
   "execution_count": 30,
   "metadata": {
    "collapsed": false
   },
   "outputs": [
    {
     "data": {
      "text/html": [
       "<div>\n",
       "<table border=\"1\" class=\"dataframe\">\n",
       "  <thead>\n",
       "    <tr style=\"text-align: right;\">\n",
       "      <th></th>\n",
       "      <th>M</th>\n",
       "      <th>K</th>\n",
       "      <th>Razem</th>\n",
       "    </tr>\n",
       "  </thead>\n",
       "  <tbody>\n",
       "    <tr>\n",
       "      <th>Psy</th>\n",
       "      <td>4</td>\n",
       "      <td>8</td>\n",
       "      <td>12</td>\n",
       "    </tr>\n",
       "    <tr>\n",
       "      <th>Koty</th>\n",
       "      <td>1</td>\n",
       "      <td>12</td>\n",
       "      <td>13</td>\n",
       "    </tr>\n",
       "  </tbody>\n",
       "</table>\n",
       "</div>"
      ],
      "text/plain": [
       "      M   K  Razem\n",
       "Psy   4   8     12\n",
       "Koty  1  12     13"
      ]
     },
     "execution_count": 30,
     "metadata": {},
     "output_type": "execute_result"
    }
   ],
   "source": [
    "df2 = pd.DataFrame(np.array([4, 8, 12, 1, 12, 13]).reshape((2,3)), columns=col, index=zw)\n",
    "df2"
   ]
  },
  {
   "cell_type": "markdown",
   "metadata": {},
   "source": [
    "#### Wpływ na metody pomiaru kampanii marketingowych ####"
   ]
  },
  {
   "cell_type": "markdown",
   "metadata": {},
   "source": [
    "Wystarczy, że w powyższym przykładzie zastąpimy Psy i Koty dwiema kampaniami marketingowymi przeprowadzanymi na różnych grupach docelowych - chociażby na mężczyznach i kobietach. Jeśli uznamy, że na pierwszą kampanię marketingową odpowiedziało 80% mężczyzn i 40% kobiet a na drugą 20% mężczyzn i 60% kobiet, bez podawania liczebności każdej z płci możemy otrzymać błędne oszacowanie skuteczności kampanii - które w rzeczywistości są prawie tak samo skuteczne.\n",
    "\n",
    "---"
   ]
  },
  {
   "cell_type": "markdown",
   "metadata": {},
   "source": [
    "### Zadanie 2 - Raport skuteczności kampanii marketingowej ###"
   ]
  },
  {
   "cell_type": "markdown",
   "metadata": {},
   "source": [
    "Aby ocenić skuteczność kampanii marketingowej musimy sprawdzić, czy średnia wartość zakupów w serwisie Allegro w okresie od 1 lutego do 31 marca była istotnie większa wśród osób do których skierowano kampanię w porównaniu do tych, do których nie wysłano materiałów zachęcających do dokonania zakupów."
   ]
  },
  {
   "cell_type": "markdown",
   "metadata": {},
   "source": [
    "1\\. Stworzenie zbioru składającego się z klientów, którzy zrobili zakupy na Allegro w ciągu tych dwóch miesięcy wraz z sumaryczną kwotą wydatków w tym okresie:\n",
    "Wybranie tych dla których ID_Sklepu = alg oraz Data_Trx Between('2013-02-01','2013-03-31')"
   ]
  },
  {
   "cell_type": "code",
   "execution_count": 38,
   "metadata": {
    "collapsed": false
   },
   "outputs": [
    {
     "data": {
      "text/plain": [
       "[u'Tabela_transakcje', u'Tabela_historia_wysylki']"
      ]
     },
     "execution_count": 38,
     "metadata": {},
     "output_type": "execute_result"
    }
   ],
   "source": [
    "x1 = pd.ExcelFile('zadanie.xlsx')\n",
    "x1.sheet_names"
   ]
  },
  {
   "cell_type": "code",
   "execution_count": 42,
   "metadata": {
    "collapsed": false
   },
   "outputs": [
    {
     "data": {
      "text/html": [
       "<div>\n",
       "<table border=\"1\" class=\"dataframe\">\n",
       "  <thead>\n",
       "    <tr style=\"text-align: right;\">\n",
       "      <th></th>\n",
       "      <th>ID_KLIENTA</th>\n",
       "      <th>ID_SKLEPU</th>\n",
       "      <th>DATA_TRX</th>\n",
       "      <th>KWOTA</th>\n",
       "      <th>PUNKTY</th>\n",
       "    </tr>\n",
       "  </thead>\n",
       "  <tbody>\n",
       "    <tr>\n",
       "      <th>0</th>\n",
       "      <td>486</td>\n",
       "      <td>bp</td>\n",
       "      <td>2013-05-11</td>\n",
       "      <td>346.30</td>\n",
       "      <td>519</td>\n",
       "    </tr>\n",
       "    <tr>\n",
       "      <th>1</th>\n",
       "      <td>874</td>\n",
       "      <td>bp</td>\n",
       "      <td>2013-03-21</td>\n",
       "      <td>174.96</td>\n",
       "      <td>87</td>\n",
       "    </tr>\n",
       "    <tr>\n",
       "      <th>2</th>\n",
       "      <td>874</td>\n",
       "      <td>bp</td>\n",
       "      <td>2013-04-10</td>\n",
       "      <td>137.92</td>\n",
       "      <td>68</td>\n",
       "    </tr>\n",
       "    <tr>\n",
       "      <th>3</th>\n",
       "      <td>1844</td>\n",
       "      <td>real</td>\n",
       "      <td>2013-01-04</td>\n",
       "      <td>95.80</td>\n",
       "      <td>47</td>\n",
       "    </tr>\n",
       "    <tr>\n",
       "      <th>4</th>\n",
       "      <td>2426</td>\n",
       "      <td>real</td>\n",
       "      <td>2013-02-20</td>\n",
       "      <td>158.82</td>\n",
       "      <td>79</td>\n",
       "    </tr>\n",
       "  </tbody>\n",
       "</table>\n",
       "</div>"
      ],
      "text/plain": [
       "   ID_KLIENTA ID_SKLEPU   DATA_TRX   KWOTA  PUNKTY\n",
       "0         486        bp 2013-05-11  346.30     519\n",
       "1         874        bp 2013-03-21  174.96      87\n",
       "2         874        bp 2013-04-10  137.92      68\n",
       "3        1844      real 2013-01-04   95.80      47\n",
       "4        2426      real 2013-02-20  158.82      79"
      ]
     },
     "execution_count": 42,
     "metadata": {},
     "output_type": "execute_result"
    }
   ],
   "source": [
    "trans = x1.parse('Tabela_transakcje')\n",
    "hist = x1.parse('Tabela_historia_wysylki')\n",
    "trans.head()"
   ]
  },
  {
   "cell_type": "code",
   "execution_count": 54,
   "metadata": {
    "collapsed": false
   },
   "outputs": [
    {
     "data": {
      "text/html": [
       "<div>\n",
       "<table border=\"1\" class=\"dataframe\">\n",
       "  <thead>\n",
       "    <tr style=\"text-align: right;\">\n",
       "      <th></th>\n",
       "      <th>ID_KLIENTA</th>\n",
       "      <th>ID_SKLEPU</th>\n",
       "      <th>DATA_TRX</th>\n",
       "      <th>KWOTA</th>\n",
       "      <th>PUNKTY</th>\n",
       "    </tr>\n",
       "  </thead>\n",
       "  <tbody>\n",
       "    <tr>\n",
       "      <th>26</th>\n",
       "      <td>5142</td>\n",
       "      <td>alg</td>\n",
       "      <td>2013-02-24</td>\n",
       "      <td>26.04</td>\n",
       "      <td>13</td>\n",
       "    </tr>\n",
       "    <tr>\n",
       "      <th>28</th>\n",
       "      <td>5142</td>\n",
       "      <td>alg</td>\n",
       "      <td>2013-03-13</td>\n",
       "      <td>26.04</td>\n",
       "      <td>13</td>\n",
       "    </tr>\n",
       "    <tr>\n",
       "      <th>30</th>\n",
       "      <td>5142</td>\n",
       "      <td>alg</td>\n",
       "      <td>2013-03-20</td>\n",
       "      <td>12.17</td>\n",
       "      <td>6</td>\n",
       "    </tr>\n",
       "    <tr>\n",
       "      <th>31</th>\n",
       "      <td>5142</td>\n",
       "      <td>alg</td>\n",
       "      <td>2013-03-25</td>\n",
       "      <td>22.78</td>\n",
       "      <td>33</td>\n",
       "    </tr>\n",
       "    <tr>\n",
       "      <th>32</th>\n",
       "      <td>5142</td>\n",
       "      <td>alg</td>\n",
       "      <td>2013-03-26</td>\n",
       "      <td>19.15</td>\n",
       "      <td>9</td>\n",
       "    </tr>\n",
       "  </tbody>\n",
       "</table>\n",
       "</div>"
      ],
      "text/plain": [
       "    ID_KLIENTA ID_SKLEPU   DATA_TRX  KWOTA  PUNKTY\n",
       "26        5142       alg 2013-02-24  26.04      13\n",
       "28        5142       alg 2013-03-13  26.04      13\n",
       "30        5142       alg 2013-03-20  12.17       6\n",
       "31        5142       alg 2013-03-25  22.78      33\n",
       "32        5142       alg 2013-03-26  19.15       9"
      ]
     },
     "execution_count": 54,
     "metadata": {},
     "output_type": "execute_result"
    }
   ],
   "source": [
    "allegro = trans.loc[trans['ID_SKLEPU']=='alg']\n",
    "allegro = allegro.loc[allegro['DATA_TRX'].isin(pd.date_range('2013-02-01', '2013-03-31'))]\n",
    "allegro[0:5]"
   ]
  },
  {
   "cell_type": "code",
   "execution_count": 83,
   "metadata": {
    "collapsed": false
   },
   "outputs": [
    {
     "data": {
      "text/html": [
       "<div>\n",
       "<table border=\"1\" class=\"dataframe\">\n",
       "  <thead>\n",
       "    <tr style=\"text-align: right;\">\n",
       "      <th></th>\n",
       "      <th>KWOTA</th>\n",
       "    </tr>\n",
       "    <tr>\n",
       "      <th>ID_KLIENTA</th>\n",
       "      <th></th>\n",
       "    </tr>\n",
       "  </thead>\n",
       "  <tbody>\n",
       "    <tr>\n",
       "      <th>5142</th>\n",
       "      <td>106.18</td>\n",
       "    </tr>\n",
       "  </tbody>\n",
       "</table>\n",
       "</div>"
      ],
      "text/plain": [
       "             KWOTA\n",
       "ID_KLIENTA        \n",
       "5142        106.18"
      ]
     },
     "execution_count": 83,
     "metadata": {},
     "output_type": "execute_result"
    }
   ],
   "source": [
    "all_sum = pd.DataFrame(allegro.groupby('ID_KLIENTA')['KWOTA'].sum())\n",
    "all_sum[0:1]"
   ]
  },
  {
   "cell_type": "markdown",
   "metadata": {},
   "source": [
    "2\\. Podział na grupę kontrolną oraz grupę odbiorców materiałów promocyjnych."
   ]
  },
  {
   "cell_type": "code",
   "execution_count": 71,
   "metadata": {
    "collapsed": false
   },
   "outputs": [
    {
     "data": {
      "text/html": [
       "<div>\n",
       "<table border=\"1\" class=\"dataframe\">\n",
       "  <thead>\n",
       "    <tr style=\"text-align: right;\">\n",
       "      <th></th>\n",
       "      <th>ID_KLIENTA</th>\n",
       "      <th>STATUS_WYSYLKI</th>\n",
       "    </tr>\n",
       "  </thead>\n",
       "  <tbody>\n",
       "    <tr>\n",
       "      <th>0</th>\n",
       "      <td>5045</td>\n",
       "      <td>GRUPA_KONTROLNA</td>\n",
       "    </tr>\n",
       "    <tr>\n",
       "      <th>1</th>\n",
       "      <td>5627</td>\n",
       "      <td>WYSLANO</td>\n",
       "    </tr>\n",
       "    <tr>\n",
       "      <th>2</th>\n",
       "      <td>5918</td>\n",
       "      <td>WYSLANO</td>\n",
       "    </tr>\n",
       "    <tr>\n",
       "      <th>3</th>\n",
       "      <td>8828</td>\n",
       "      <td>WYSLANO</td>\n",
       "    </tr>\n",
       "    <tr>\n",
       "      <th>4</th>\n",
       "      <td>13678</td>\n",
       "      <td>WYSLANO</td>\n",
       "    </tr>\n",
       "  </tbody>\n",
       "</table>\n",
       "</div>"
      ],
      "text/plain": [
       "   ID_KLIENTA   STATUS_WYSYLKI\n",
       "0        5045  GRUPA_KONTROLNA\n",
       "1        5627          WYSLANO\n",
       "2        5918          WYSLANO\n",
       "3        8828          WYSLANO\n",
       "4       13678          WYSLANO"
      ]
     },
     "execution_count": 71,
     "metadata": {},
     "output_type": "execute_result"
    }
   ],
   "source": [
    "hist.head()"
   ]
  },
  {
   "cell_type": "code",
   "execution_count": 91,
   "metadata": {
    "collapsed": false
   },
   "outputs": [
    {
     "data": {
      "text/plain": [
       "416"
      ]
     },
     "execution_count": 91,
     "metadata": {},
     "output_type": "execute_result"
    }
   ],
   "source": [
    "gr_kontr = hist.loc[hist['STATUS_WYSYLKI']=='GRUPA_KONTROLNA']\n",
    "gr_odb = hist.loc[hist['STATUS_WYSYLKI']=='WYSLANO']\n",
    "gr_kontr_sum = pd.merge(gr_kontr, all_sum, left_on='ID_KLIENTA',right_index=True ,how='outer')\n",
    "_ = gr_kontr_sum['KWOTA'].fillna(0, inplace=True)\n",
    "gr_odb_sum = pd.merge(gr_odb, all_sum, left_on='ID_KLIENTA',right_index=True ,how='outer')\n",
    "gr_odb_sum['ID_KLIENTA'].count()\n"
   ]
  },
  {
   "cell_type": "markdown",
   "metadata": {},
   "source": [
    "3\\. Dla każdego z dwóch nowych zbiorów policzenie dla każdego klienta kwoty którą wydał w ciagu tych dwóch miesięcy za pomocą połączenia ze zbiorem z transakcjami."
   ]
  },
  {
   "cell_type": "code",
   "execution_count": null,
   "metadata": {
    "collapsed": true
   },
   "outputs": [],
   "source": []
  },
  {
   "cell_type": "markdown",
   "metadata": {},
   "source": [
    "4\\. Policzenie średnich dla obu grup - kontrolnej i odbiorców. Zbadanie hipotezy o równości średnich."
   ]
  },
  {
   "cell_type": "code",
   "execution_count": null,
   "metadata": {
    "collapsed": true
   },
   "outputs": [],
   "source": []
  }
 ],
 "metadata": {
  "anaconda-cloud": {},
  "kernelspec": {
   "display_name": "Python [default]",
   "language": "python",
   "name": "python2"
  },
  "language_info": {
   "codemirror_mode": {
    "name": "ipython",
    "version": 2
   },
   "file_extension": ".py",
   "mimetype": "text/x-python",
   "name": "python",
   "nbconvert_exporter": "python",
   "pygments_lexer": "ipython2",
   "version": "2.7.12"
  }
 },
 "nbformat": 4,
 "nbformat_minor": 1
}
