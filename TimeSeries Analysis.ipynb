{
 "cells": [
  {
   "cell_type": "code",
   "execution_count": 75,
   "metadata": {},
   "outputs": [],
   "source": [
    "from IPython.display import HTML"
   ]
  },
  {
   "cell_type": "code",
   "execution_count": 78,
   "metadata": {},
   "outputs": [
    {
     "data": {
      "text/html": [
       "<iframe src=https://conference.scipy.org/scipy2011/slides/mckinney_time_series.pdf width=900 height=400></iframe>"
      ],
      "text/plain": [
       "<IPython.core.display.HTML object>"
      ]
     },
     "execution_count": 78,
     "metadata": {},
     "output_type": "execute_result"
    }
   ],
   "source": [
    "HTML('<iframe src=https://conference.scipy.org/scipy2011/slides/mckinney_time_series.pdf width=900 height=400></iframe>')"
   ]
  },
  {
   "cell_type": "code",
   "execution_count": 5,
   "metadata": {
    "collapsed": true
   },
   "outputs": [],
   "source": [
    "import pandas as pd\n",
    "import numpy as np\n",
    "from matplotlib import pyplot as plt\n",
    "import time\n",
    "from datetime import datetime"
   ]
  },
  {
   "cell_type": "code",
   "execution_count": 70,
   "metadata": {
    "collapsed": true
   },
   "outputs": [],
   "source": [
    "%matplotlib inline"
   ]
  },
  {
   "cell_type": "code",
   "execution_count": 63,
   "metadata": {},
   "outputs": [],
   "source": [
    "# tworzenie danych, numpy array z listy\n",
    "yr2016 = np.array([51783, 50403, 49800, 47500, 44023, 46890, 33560, 44123, 49539, 50129, 53180, 65931])\n",
    "yr2017 = np.array([53534, 52931, 49789, 48934, 52345, 46873, 53678])"
   ]
  },
  {
   "cell_type": "markdown",
   "metadata": {},
   "source": [
    "Stworzenie indexu z dat, dla każdego z okresów:"
   ]
  },
  {
   "cell_type": "code",
   "execution_count": 38,
   "metadata": {},
   "outputs": [
    {
     "name": "stdout",
     "output_type": "stream",
     "text": [
      " "
     ]
    }
   ],
   "source": [
    "%%prun\n",
    "yr2016_t = []\n",
    "for i in range(12):\n",
    "    yr2016_t.append(datetime(2016, i+1, 1))\n",
    "# modul datetime zmienia dane stringowe na TimeStamp'y\n",
    "yr2017_t = []\n",
    "for i in range(7):\n",
    "    yr2017_t.append(datetime(2017, i+1, 1))"
   ]
  },
  {
   "cell_type": "markdown",
   "metadata": {},
   "source": [
    "Alternatywne tworzenie indexu za pomoca funkcji __pd.date_range__:"
   ]
  },
  {
   "cell_type": "code",
   "execution_count": 39,
   "metadata": {},
   "outputs": [
    {
     "name": "stdout",
     "output_type": "stream",
     "text": [
      "DatetimeIndex(['2016-01-01', '2016-02-01', '2016-03-01', '2016-04-01',\n",
      "               '2016-05-01', '2016-06-01', '2016-07-01', '2016-08-01',\n",
      "               '2016-09-01', '2016-10-01', '2016-11-01', '2016-12-01'],\n",
      "              dtype='datetime64[ns]', freq='MS')\n",
      " "
     ]
    }
   ],
   "source": [
    "%%prun\n",
    "id2016 = pd.date_range(start='2016-01-01', periods=12, freq='MS')\n",
    "print(id2016)"
   ]
  },
  {
   "cell_type": "code",
   "execution_count": 37,
   "metadata": {},
   "outputs": [
    {
     "name": "stdout",
     "output_type": "stream",
     "text": [
      "DatetimeIndex(['2017-01-01', '2017-02-01', '2017-03-01', '2017-04-01',\n",
      "               '2017-05-01', '2017-06-01', '2017-07-01'],\n",
      "              dtype='datetime64[ns]', freq='MS')\n"
     ]
    }
   ],
   "source": [
    "id2017 = pd.date_range(start='2017-01-01', periods=7, freq='MS')\n",
    "print(id2017)"
   ]
  },
  {
   "cell_type": "code",
   "execution_count": 64,
   "metadata": {},
   "outputs": [],
   "source": [
    "# tworzymy pandas Series, nie potrzebujemy calego DataFrame'u\n",
    "# jako wartości podajemy wygenerowanego arraya z np, jako index obiekt DateTime\n",
    "data2016 = pd.Series(yr2016, index=yr2016_t)\n",
    "data2017 = pd.Series(yr2017, index=yr2017_t)"
   ]
  },
  {
   "cell_type": "code",
   "execution_count": 65,
   "metadata": {},
   "outputs": [
    {
     "data": {
      "text/plain": [
       "2016-01-01    51783\n",
       "2016-02-01    50403\n",
       "2016-03-01    49800\n",
       "2016-04-01    47500\n",
       "2016-05-01    44023\n",
       "2016-06-01    46890\n",
       "2016-07-01    33560\n",
       "2016-08-01    44123\n",
       "2016-09-01    49539\n",
       "2016-10-01    50129\n",
       "2016-11-01    53180\n",
       "2016-12-01    65931\n",
       "dtype: int64"
      ]
     },
     "execution_count": 65,
     "metadata": {},
     "output_type": "execute_result"
    }
   ],
   "source": [
    "data2016"
   ]
  },
  {
   "cell_type": "code",
   "execution_count": 66,
   "metadata": {},
   "outputs": [
    {
     "data": {
      "text/plain": [
       "2017-01-01    53534\n",
       "2017-02-01    52931\n",
       "2017-03-01    49789\n",
       "2017-04-01    48934\n",
       "2017-05-01    52345\n",
       "2017-06-01    46873\n",
       "2017-07-01    53678\n",
       "dtype: int64"
      ]
     },
     "execution_count": 66,
     "metadata": {},
     "output_type": "execute_result"
    }
   ],
   "source": [
    "data2017"
   ]
  },
  {
   "cell_type": "code",
   "execution_count": 27,
   "metadata": {
    "scrolled": true
   },
   "outputs": [
    {
     "data": {
      "text/plain": [
       "(pandas.core.series.Series, pandas.tseries.index.DatetimeIndex)"
      ]
     },
     "execution_count": 27,
     "metadata": {},
     "output_type": "execute_result"
    }
   ],
   "source": [
    "type(data2016), type(data2016.index)"
   ]
  },
  {
   "cell_type": "code",
   "execution_count": 52,
   "metadata": {
    "scrolled": true
   },
   "outputs": [
    {
     "data": {
      "text/plain": [
       "(Timestamp('2016-01-01 00:00:00'), Timestamp('2016-12-01 00:00:00'))"
      ]
     },
     "execution_count": 52,
     "metadata": {},
     "output_type": "execute_result"
    }
   ],
   "source": [
    "data2016.index[0], data2016.index[-1] "
   ]
  },
  {
   "cell_type": "code",
   "execution_count": 71,
   "metadata": {},
   "outputs": [
    {
     "data": {
      "text/plain": [
       "<matplotlib.axes._subplots.AxesSubplot at 0x7f7b6164d8d0>"
      ]
     },
     "execution_count": 71,
     "metadata": {},
     "output_type": "execute_result"
    },
    {
     "data": {
      "image/png": "[encoded data removed]",
      "text/plain": [
       "<matplotlib.figure.Figure at 0x7f7b616347f0>"
      ]
     },
     "metadata": {},
     "output_type": "display_data"
    }
   ],
   "source": [
    "plt.clf()\n",
    "data2016.plot()\n",
    "data2017.plot()\n",
    "#plt.show()"
   ]
  },
  {
   "cell_type": "code",
   "execution_count": 72,
   "metadata": {
    "collapsed": true
   },
   "outputs": [],
   "source": [
    "data_total = data2016.append(data2017)"
   ]
  },
  {
   "cell_type": "code",
   "execution_count": 73,
   "metadata": {},
   "outputs": [
    {
     "data": {
      "text/plain": [
       "2016-01-01    51783\n",
       "2016-02-01    50403\n",
       "2016-03-01    49800\n",
       "2016-04-01    47500\n",
       "2016-05-01    44023\n",
       "2016-06-01    46890\n",
       "2016-07-01    33560\n",
       "2016-08-01    44123\n",
       "2016-09-01    49539\n",
       "2016-10-01    50129\n",
       "2016-11-01    53180\n",
       "2016-12-01    65931\n",
       "2017-01-01    53534\n",
       "2017-02-01    52931\n",
       "2017-03-01    49789\n",
       "2017-04-01    48934\n",
       "2017-05-01    52345\n",
       "2017-06-01    46873\n",
       "2017-07-01    53678\n",
       "dtype: int64"
      ]
     },
     "execution_count": 73,
     "metadata": {},
     "output_type": "execute_result"
    }
   ],
   "source": [
    "data_total"
   ]
  },
  {
   "cell_type": "code",
   "execution_count": null,
   "metadata": {
    "collapsed": true
   },
   "outputs": [],
   "source": []
  }
 ],
 "metadata": {
  "kernelspec": {
   "display_name": "Python 3",
   "language": "python",
   "name": "python3"
  },
  "language_info": {
   "codemirror_mode": {
    "name": "ipython",
    "version": 3
   },
   "file_extension": ".py",
   "mimetype": "text/x-python",
   "name": "python",
   "nbconvert_exporter": "python",
   "pygments_lexer": "ipython3",
   "version": "3.6.1"
  }
 },
 "nbformat": 4,
 "nbformat_minor": 2
}
