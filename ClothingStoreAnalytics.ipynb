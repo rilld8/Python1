{
 "cells": [
  {
   "cell_type": "markdown",
   "metadata": {},
   "source": [
    "Poniżej przedstawiam przykładowy proces modelowania danych do oceny odpowiedzi na kampanię marketingową.\n",
    "Użyty zbiór do analizy można znaleźć na 'https://dataminingconsultant.com/data/Clothing_Store'\n",
    "Przedstawia on dane zebrane podczas kampanii marketingowej sklepu odzieżowego w Wielkiej Brytanii. Według metodologii CRISP-DM możemy wyróżnić 6 etapów modelowania danych podczas procesu data miningu i na tyle etapów została też podzielona poniższa analiza."
   ]
  },
  {
   "cell_type": "markdown",
   "metadata": {},
   "source": [
    "### 1. Zrozumienie uwarunkowań biznesowych \n",
    "Zagadnienie, którym będę się poniżej zajmował to klasyfikacja klientów sklepu na tych, którym warto wysyłać materiały promocyjne i na takich, do których nie warto kierować oferty. Chcę wiedzieć, jak zyskowna będzie kampania marketingowa przeprowadzona w przyszłości i do jakiej grupy docelowej należy ją skierować. Odpowiedź na pierwsze pytanie jest w tym wypadku kryterium oceny modeli - interesują mnie takie, które pozwolą maksymalizować zysk. Zbuduję więc teoretyczną tabelę zysków/kosztów."
   ]
  },
  {
   "cell_type": "code",
   "execution_count": 57,
   "metadata": {
    "collapsed": false
   },
   "outputs": [],
   "source": [
    "import sys\n",
    "reload(sys)\n",
    "sys.setdefaultencoding(\"utf-8\")\n",
    "import pandas as pd\n",
    "import matplotlib.pyplot as plt\n",
    "import numpy as np\n",
    "import seaborn as sns\n",
    "from sklearn.cross_validation import train_test_split\n",
    "from sklearn.metrics import mean_squared_error\n",
    "%matplotlib inline"
   ]
  },
  {
   "cell_type": "code",
   "execution_count": 2,
   "metadata": {
    "collapsed": false
   },
   "outputs": [],
   "source": [
    "data = pd.read_csv('~/Downloads/Clothing_Store', sep=',')"
   ]
  },
  {
   "cell_type": "code",
   "execution_count": 3,
   "metadata": {
    "collapsed": false
   },
   "outputs": [
    {
     "data": {
      "text/html": [
       "<div>\n",
       "<table border=\"1\" class=\"dataframe\">\n",
       "  <thead>\n",
       "    <tr style=\"text-align: right;\">\n",
       "      <th></th>\n",
       "      <th>HHKEY</th>\n",
       "      <th>ZIP_CODE</th>\n",
       "      <th>REC</th>\n",
       "      <th>FRE</th>\n",
       "      <th>MON</th>\n",
       "      <th>CC_CARD</th>\n",
       "      <th>AVRG</th>\n",
       "      <th>PC_CALC20</th>\n",
       "      <th>PSWEATERS</th>\n",
       "      <th>PKNIT_TOPS</th>\n",
       "      <th>...</th>\n",
       "      <th>VALPHON</th>\n",
       "      <th>WEB</th>\n",
       "      <th>MAILED</th>\n",
       "      <th>RESPONDED</th>\n",
       "      <th>RESPONSERATE</th>\n",
       "      <th>HI</th>\n",
       "      <th>LTFREDAY</th>\n",
       "      <th>CLUSTYPE</th>\n",
       "      <th>PERCRET</th>\n",
       "      <th>RESP</th>\n",
       "    </tr>\n",
       "  </thead>\n",
       "  <tbody>\n",
       "    <tr>\n",
       "      <th>0</th>\n",
       "      <td>9955600066402</td>\n",
       "      <td>1001</td>\n",
       "      <td>208</td>\n",
       "      <td>2</td>\n",
       "      <td>368.46</td>\n",
       "      <td>0</td>\n",
       "      <td>184.23</td>\n",
       "      <td>11</td>\n",
       "      <td>0.18</td>\n",
       "      <td>0.00</td>\n",
       "      <td>...</td>\n",
       "      <td>N</td>\n",
       "      <td>0</td>\n",
       "      <td>5</td>\n",
       "      <td>0</td>\n",
       "      <td>0.00</td>\n",
       "      <td>31.81</td>\n",
       "      <td>111.00</td>\n",
       "      <td>10</td>\n",
       "      <td>0.00</td>\n",
       "      <td>0</td>\n",
       "    </tr>\n",
       "    <tr>\n",
       "      <th>1</th>\n",
       "      <td>9955600073501</td>\n",
       "      <td>1028</td>\n",
       "      <td>6</td>\n",
       "      <td>4</td>\n",
       "      <td>258.00</td>\n",
       "      <td>1</td>\n",
       "      <td>64.50</td>\n",
       "      <td>11</td>\n",
       "      <td>0.26</td>\n",
       "      <td>0.16</td>\n",
       "      <td>...</td>\n",
       "      <td>Y</td>\n",
       "      <td>0</td>\n",
       "      <td>4</td>\n",
       "      <td>2</td>\n",
       "      <td>50.00</td>\n",
       "      <td>32.72</td>\n",
       "      <td>43.50</td>\n",
       "      <td>10</td>\n",
       "      <td>0.03</td>\n",
       "      <td>1</td>\n",
       "    </tr>\n",
       "    <tr>\n",
       "      <th>2</th>\n",
       "      <td>9955600076313</td>\n",
       "      <td>1056</td>\n",
       "      <td>327</td>\n",
       "      <td>2</td>\n",
       "      <td>77.00</td>\n",
       "      <td>0</td>\n",
       "      <td>38.50</td>\n",
       "      <td>11</td>\n",
       "      <td>1.00</td>\n",
       "      <td>0.00</td>\n",
       "      <td>...</td>\n",
       "      <td>N</td>\n",
       "      <td>0</td>\n",
       "      <td>4</td>\n",
       "      <td>0</td>\n",
       "      <td>0.00</td>\n",
       "      <td>100.00</td>\n",
       "      <td>68.60</td>\n",
       "      <td>16</td>\n",
       "      <td>0.00</td>\n",
       "      <td>0</td>\n",
       "    </tr>\n",
       "    <tr>\n",
       "      <th>3</th>\n",
       "      <td>9955600078045</td>\n",
       "      <td>1118</td>\n",
       "      <td>66</td>\n",
       "      <td>8</td>\n",
       "      <td>846.06</td>\n",
       "      <td>1</td>\n",
       "      <td>105.75</td>\n",
       "      <td>11</td>\n",
       "      <td>0.38</td>\n",
       "      <td>0.00</td>\n",
       "      <td>...</td>\n",
       "      <td>Y</td>\n",
       "      <td>0</td>\n",
       "      <td>9</td>\n",
       "      <td>6</td>\n",
       "      <td>66.67</td>\n",
       "      <td>23.27</td>\n",
       "      <td>26.96</td>\n",
       "      <td>10</td>\n",
       "      <td>0.00</td>\n",
       "      <td>0</td>\n",
       "    </tr>\n",
       "    <tr>\n",
       "      <th>4</th>\n",
       "      <td>9955600078517</td>\n",
       "      <td>1107</td>\n",
       "      <td>49</td>\n",
       "      <td>1</td>\n",
       "      <td>87.44</td>\n",
       "      <td>0</td>\n",
       "      <td>87.44</td>\n",
       "      <td>11</td>\n",
       "      <td>0.20</td>\n",
       "      <td>0.20</td>\n",
       "      <td>...</td>\n",
       "      <td>Y</td>\n",
       "      <td>0</td>\n",
       "      <td>0</td>\n",
       "      <td>0</td>\n",
       "      <td>0.00</td>\n",
       "      <td>28.52</td>\n",
       "      <td>24.50</td>\n",
       "      <td>20</td>\n",
       "      <td>0.00</td>\n",
       "      <td>0</td>\n",
       "    </tr>\n",
       "  </tbody>\n",
       "</table>\n",
       "<p>5 rows × 51 columns</p>\n",
       "</div>"
      ],
      "text/plain": [
       "           HHKEY  ZIP_CODE  REC  FRE     MON  CC_CARD    AVRG  PC_CALC20  \\\n",
       "0  9955600066402      1001  208    2  368.46        0  184.23         11   \n",
       "1  9955600073501      1028    6    4  258.00        1   64.50         11   \n",
       "2  9955600076313      1056  327    2   77.00        0   38.50         11   \n",
       "3  9955600078045      1118   66    8  846.06        1  105.75         11   \n",
       "4  9955600078517      1107   49    1   87.44        0   87.44         11   \n",
       "\n",
       "   PSWEATERS  PKNIT_TOPS  ...   VALPHON  WEB  MAILED  RESPONDED  RESPONSERATE  \\\n",
       "0       0.18        0.00  ...         N    0       5          0          0.00   \n",
       "1       0.26        0.16  ...         Y    0       4          2         50.00   \n",
       "2       1.00        0.00  ...         N    0       4          0          0.00   \n",
       "3       0.38        0.00  ...         Y    0       9          6         66.67   \n",
       "4       0.20        0.20  ...         Y    0       0          0          0.00   \n",
       "\n",
       "       HI  LTFREDAY  CLUSTYPE  PERCRET  RESP  \n",
       "0   31.81    111.00        10     0.00     0  \n",
       "1   32.72     43.50        10     0.03     1  \n",
       "2  100.00     68.60        16     0.00     0  \n",
       "3   23.27     26.96        10     0.00     0  \n",
       "4   28.52     24.50        20     0.00     0  \n",
       "\n",
       "[5 rows x 51 columns]"
      ]
     },
     "execution_count": 3,
     "metadata": {},
     "output_type": "execute_result"
    }
   ],
   "source": [
    "data.head()"
   ]
  },
  {
   "cell_type": "markdown",
   "metadata": {},
   "source": [
    "Bez informacji o marży na poszczególnych produktach ciężko wyliczyć dokładny zysk dla poszczególnych obserwacji. Jednak nie potrzebuję dokładnej wartości a jedynie przybliżenie, dzięki któremu będę w stanie porównać modele. W zbiorze zmienna AVRG przedstawia średnią wartość zakupów dokonaną w sklepie. Założę, iż zysk sklepu wyniesie około 25% przeciętnej wartości zakupów. "
   ]
  },
  {
   "cell_type": "code",
   "execution_count": 4,
   "metadata": {
    "collapsed": false
   },
   "outputs": [
    {
     "data": {
      "text/plain": [
       "False"
      ]
     },
     "execution_count": 4,
     "metadata": {},
     "output_type": "execute_result"
    }
   ],
   "source": [
    "data['AVRG'].isnull().values.any()"
   ]
  },
  {
   "cell_type": "code",
   "execution_count": 5,
   "metadata": {
    "collapsed": false,
    "scrolled": true
   },
   "outputs": [
    {
     "data": {
      "text/plain": [
       "count    21740.000000\n",
       "mean       113.889105\n",
       "std         87.249794\n",
       "min          0.490000\n",
       "25%         60.990000\n",
       "50%         92.070000\n",
       "75%        139.505000\n",
       "max       1919.880000\n",
       "Name: AVRG, dtype: float64"
      ]
     },
     "execution_count": 5,
     "metadata": {},
     "output_type": "execute_result"
    }
   ],
   "source": [
    "data['AVRG'].describe()"
   ]
  },
  {
   "cell_type": "code",
   "execution_count": 6,
   "metadata": {
    "collapsed": false
   },
   "outputs": [],
   "source": [
    "pz = data['AVRG'].mean()*0.25 # Przeciętny zysk\n"
   ]
  },
  {
   "cell_type": "code",
   "execution_count": 7,
   "metadata": {
    "collapsed": false
   },
   "outputs": [
    {
     "data": {
      "text/html": [
       "<div>\n",
       "<table border=\"1\" class=\"dataframe\">\n",
       "  <thead>\n",
       "    <tr style=\"text-align: right;\">\n",
       "      <th></th>\n",
       "      <th>Wynik</th>\n",
       "      <th>Klasyfikacja</th>\n",
       "      <th>Rzeczywista odpowiedź</th>\n",
       "      <th>Koszt</th>\n",
       "      <th>Uzasadnienie</th>\n",
       "    </tr>\n",
       "  </thead>\n",
       "  <tbody>\n",
       "    <tr>\n",
       "      <th>1</th>\n",
       "      <td>TN</td>\n",
       "      <td>brak odpowiedzi</td>\n",
       "      <td>brak odpowiedzi</td>\n",
       "      <td>0.000000</td>\n",
       "      <td>brak kontaktu, brak straconych zysków</td>\n",
       "    </tr>\n",
       "    <tr>\n",
       "      <th>2</th>\n",
       "      <td>TP</td>\n",
       "      <td>odpowiedź</td>\n",
       "      <td>odpowiedź</td>\n",
       "      <td>-26.472276</td>\n",
       "      <td>oszacowany zysk minus koszt wysyłki</td>\n",
       "    </tr>\n",
       "    <tr>\n",
       "      <th>3</th>\n",
       "      <td>FN</td>\n",
       "      <td>brak odpowiedzi</td>\n",
       "      <td>odpowiedź</td>\n",
       "      <td>28.472276</td>\n",
       "      <td>stracony zysk, brak kosztu wysyłki</td>\n",
       "    </tr>\n",
       "    <tr>\n",
       "      <th>4</th>\n",
       "      <td>FP</td>\n",
       "      <td>odpowiedż</td>\n",
       "      <td>brak odpowiedzi</td>\n",
       "      <td>2.000000</td>\n",
       "      <td>koszt wysyłki</td>\n",
       "    </tr>\n",
       "  </tbody>\n",
       "</table>\n",
       "</div>"
      ],
      "text/plain": [
       "  Wynik     Klasyfikacja Rzeczywista odpowiedź      Koszt  \\\n",
       "1    TN  brak odpowiedzi       brak odpowiedzi   0.000000   \n",
       "2    TP        odpowiedź             odpowiedź -26.472276   \n",
       "3    FN  brak odpowiedzi             odpowiedź  28.472276   \n",
       "4    FP        odpowiedż       brak odpowiedzi   2.000000   \n",
       "\n",
       "                            Uzasadnienie  \n",
       "1  brak kontaktu, brak straconych zysków  \n",
       "2    oszacowany zysk minus koszt wysyłki  \n",
       "3     stracony zysk, brak kosztu wysyłki  \n",
       "4                          koszt wysyłki  "
      ]
     },
     "execution_count": 7,
     "metadata": {},
     "output_type": "execute_result"
    }
   ],
   "source": [
    "wynik = np.array(['TN', 'TP', 'FN', 'FP'])\n",
    "klas = np.array(['brak odpowiedzi', 'odpowiedź', 'brak odpowiedzi', 'odpowiedż']) # Klasyfikacja\n",
    "rodp = np.array(['brak odpowiedzi', 'odpowiedź', 'odpowiedź', 'brak odpowiedzi']) # Rzeczywista odpowiedź\n",
    "koszt = np.array([0, 2 - pz, pz, 2 ]) # Koszty klasyfikacji\n",
    "uz = np.array(['brak kontaktu, brak straconych zysków', 'oszacowany zysk minus koszt wysyłki', 'stracony zysk, brak kosztu wysyłki',\n",
    "     'koszt wysyłki'])\n",
    "zk = pd.DataFrame({'Wynik': wynik, 'Klasyfikacja': klas, 'Rzeczywista odpowiedź': rodp, 'Koszt':koszt, 'Uzasadnienie': \n",
    "                  uz}, columns=['Wynik', 'Klasyfikacja', 'Rzeczywista odpowiedź', 'Koszt', 'Uzasadnienie'], index=[1, 2, 3, 4])\n",
    "zk"
   ]
  },
  {
   "cell_type": "markdown",
   "metadata": {},
   "source": [
    "Na podstawie powyższej tabeli wybiorę model optymalny dla mojego problemu."
   ]
  },
  {
   "cell_type": "markdown",
   "metadata": {},
   "source": [
    "### 2. Zrozumienie i przygotowanie danych\n",
    "Aby móc zająć się doborem modelu i predykcją najpierw muszę przyjrzeć się danym. Określić ilość zmiennych porządkowych, ilościowych i nominalnych. Sprawdzić ilość brakujących danych, rozkłady poszczególnych zmiennych, symetryczność (asymetrię), normalność oraz ewentualne obserwacje odstające. W tym celu skorzystam z technik eksploracyjnej analizy danych."
   ]
  },
  {
   "cell_type": "code",
   "execution_count": 8,
   "metadata": {
    "collapsed": false
   },
   "outputs": [
    {
     "data": {
      "text/plain": [
       "0    18129\n",
       "1     3611\n",
       "Name: RESP, dtype: int64"
      ]
     },
     "execution_count": 8,
     "metadata": {},
     "output_type": "execute_result"
    }
   ],
   "source": [
    "data['RESP'].value_counts()"
   ]
  },
  {
   "cell_type": "code",
   "execution_count": 9,
   "metadata": {
    "collapsed": false
   },
   "outputs": [
    {
     "data": {
      "text/plain": [
       "0    0.833901\n",
       "1    0.166099\n",
       "Name: RESP, dtype: float64"
      ]
     },
     "execution_count": 9,
     "metadata": {},
     "output_type": "execute_result"
    }
   ],
   "source": [
    "data['RESP'].value_counts(normalize=True)"
   ]
  },
  {
   "cell_type": "markdown",
   "metadata": {},
   "source": [
    "Zmienna RESP oznaczająca odpowiedź pozytywną ('RESP' = 1) lub negatywną ('RESP' = 0) na kampanię marketingową jest asymetryczna - zdecydowanie mniej osób odpowiedziało na kampanię. Najpierw podzielę pierwotny zbiór na uczący i testowy."
   ]
  },
  {
   "cell_type": "code",
   "execution_count": 10,
   "metadata": {
    "collapsed": true
   },
   "outputs": [],
   "source": [
    "data_train, data_test = train_test_split(data, test_size=0.25, random_state=42)"
   ]
  },
  {
   "cell_type": "code",
   "execution_count": 11,
   "metadata": {
    "collapsed": false
   },
   "outputs": [
    {
     "name": "stdout",
     "output_type": "stream",
     "text": [
      "16305 5435\n"
     ]
    }
   ],
   "source": [
    "print data_train['RESP'].count(),  data_test['RESP'].count()"
   ]
  },
  {
   "cell_type": "code",
   "execution_count": 12,
   "metadata": {
    "collapsed": true
   },
   "outputs": [],
   "source": [
    "dt = data_train"
   ]
  },
  {
   "cell_type": "code",
   "execution_count": 13,
   "metadata": {
    "collapsed": false
   },
   "outputs": [
    {
     "data": {
      "text/plain": [
       "0    0.835695\n",
       "1    0.164305\n",
       "Name: RESP, dtype: float64"
      ]
     },
     "execution_count": 13,
     "metadata": {},
     "output_type": "execute_result"
    }
   ],
   "source": [
    "dt['RESP'].value_counts(normalize=True)"
   ]
  },
  {
   "cell_type": "code",
   "execution_count": 28,
   "metadata": {
    "collapsed": false
   },
   "outputs": [
    {
     "name": "stdout",
     "output_type": "stream",
     "text": [
      "<class 'pandas.core.frame.DataFrame'>\n",
      "Int64Index: 16305 entries, 6455 to 15795\n",
      "Data columns (total 51 columns):\n",
      "HHKEY           16305 non-null int64\n",
      "ZIP_CODE        16305 non-null int64\n",
      "REC             16305 non-null int64\n",
      "FRE             16305 non-null int64\n",
      "MON             16305 non-null float64\n",
      "CC_CARD         16305 non-null int64\n",
      "AVRG            16305 non-null float64\n",
      "PC_CALC20       16305 non-null int64\n",
      "PSWEATERS       16305 non-null float64\n",
      "PKNIT_TOPS      16305 non-null float64\n",
      "PKNIT_DRES      16305 non-null float64\n",
      "PBLOUSES        16305 non-null float64\n",
      "PJACKETS        16305 non-null float64\n",
      "PCAR_PNTS       16305 non-null float64\n",
      "PCAS_PNTS       16305 non-null float64\n",
      "PSHIRTS         16305 non-null float64\n",
      "PDRESSES        16305 non-null float64\n",
      "PSUITS          16305 non-null float64\n",
      "POUTERWEAR      16305 non-null float64\n",
      "PJEWELRY        16305 non-null float64\n",
      "PFASHION        16305 non-null float64\n",
      "PLEGWEAR        16305 non-null float64\n",
      "PCOLLSPND       16305 non-null float64\n",
      "AMSPEND         16305 non-null float64\n",
      "PSSPEND         16305 non-null float64\n",
      "CCSPEND         16305 non-null float64\n",
      "AXSPEND         16305 non-null float64\n",
      "TMONSPEND       16305 non-null float64\n",
      "OMONSPEND       16305 non-null float64\n",
      "SMONSPEND       16305 non-null float64\n",
      "PREVPD          16305 non-null float64\n",
      "GMP             16305 non-null float64\n",
      "PROMOS          16305 non-null int64\n",
      "DAYS            16305 non-null int64\n",
      "FREDAYS         16305 non-null float64\n",
      "MARKDOWN        16305 non-null float64\n",
      "CLASSES         16305 non-null int64\n",
      "COUPONS         16305 non-null int64\n",
      "STYLES          16305 non-null int64\n",
      "STORES          16305 non-null int64\n",
      "STORELOY        16305 non-null int64\n",
      "VALPHON         16305 non-null int64\n",
      "WEB             16305 non-null int64\n",
      "MAILED          16305 non-null int64\n",
      "RESPONDED       16305 non-null int64\n",
      "RESPONSERATE    16305 non-null float64\n",
      "HI              16305 non-null float64\n",
      "LTFREDAY        16305 non-null float64\n",
      "CLUSTYPE        16305 non-null int64\n",
      "PERCRET         16305 non-null float64\n",
      "RESP            16305 non-null int64\n",
      "dtypes: float64(32), int64(19)\n",
      "memory usage: 6.5 MB\n"
     ]
    }
   ],
   "source": [
    "dt.info()"
   ]
  },
  {
   "cell_type": "code",
   "execution_count": 41,
   "metadata": {
    "collapsed": false
   },
   "outputs": [
    {
     "data": {
      "text/plain": [
       "1    14001\n",
       "0     2304\n",
       "Name: VALPHON, dtype: int64"
      ]
     },
     "execution_count": 41,
     "metadata": {},
     "output_type": "execute_result"
    }
   ],
   "source": [
    "dt['VALPHON'] = dt['VALPHON'].replace(['Y', 'N'], [1, 0])\n",
    "pd.value_counts(dt['VALPHON'])"
   ]
  },
  {
   "cell_type": "markdown",
   "metadata": {},
   "source": [
    "Sprawdźmy rozkład kilku zmiennych: średnie wydatki ogółem (*AVRG*), kwota wydana w ciągu ostatnich 6 miesięcy (*TMONSPEND*) oraz kwota wydana w jednym z czterach sklepów (*AMSPEND*). "
   ]
  },
  {
   "cell_type": "code",
   "execution_count": 77,
   "metadata": {
    "collapsed": false
   },
   "outputs": [
    {
     "data": {
      "image/png": "[encoded data removed]",
      "text/plain": [
       "<matplotlib.figure.Figure at 0x7f1c1eb01790>"
      ]
     },
     "metadata": {},
     "output_type": "display_data"
    }
   ],
   "source": [
    "plt.hist(dt['AVRG'], bins=20)\n",
    "plt.xlabel('Srednia kwota wydana na zakupy')\n",
    "plt.ylabel('Licznosci')\n",
    "ax = plt.subplot(1, 1, 1)\n",
    "ax.set_yscale('log')\n",
    "plt.show()"
   ]
  },
  {
   "cell_type": "code",
   "execution_count": 78,
   "metadata": {
    "collapsed": false
   },
   "outputs": [
    {
     "data": {
      "image/png": "[encoded data removed]",
      "text/plain": [
       "<matplotlib.figure.Figure at 0x7f1c26bb9410>"
      ]
     },
     "metadata": {},
     "output_type": "display_data"
    }
   ],
   "source": [
    "plt.hist(dt['TMONSPEND'], bins=20)\n",
    "plt.xlabel('Kwota wydana w ciągu ostatnich 6 miesiecy')\n",
    "plt.ylabel('Licznosci')\n",
    "ax = plt.subplot(1, 1, 1)\n",
    "ax.set_yscale('log')\n",
    "plt.show()"
   ]
  },
  {
   "cell_type": "code",
   "execution_count": 79,
   "metadata": {
    "collapsed": false
   },
   "outputs": [
    {
     "data": {
      "image/png": "[encoded data removed]",
      "text/plain": [
       "<matplotlib.figure.Figure at 0x7f1c1efd1990>"
      ]
     },
     "metadata": {},
     "output_type": "display_data"
    }
   ],
   "source": [
    "sns.distplot(dt['AMSPEND'], kde=False)\n",
    "ax = plt.subplot(1, 1, 1)\n",
    "ax.set_yscale('log')\n",
    "plt.show()"
   ]
  },
  {
   "cell_type": "markdown",
   "metadata": {},
   "source": [
    "Jak widać na powyższych wykresach rozkłady kwot są asymetryczne prawostronnie. Obserwacje odstające w przypadku każdej zmiennej bardzo różnią się od średniej (tym samym ich rozkład jest daleki od normalnego) i będą mocno zniekształcać wyniki modelowania. Tak więc dane należy poddać standaryzacji."
   ]
  },
  {
   "cell_type": "code",
   "execution_count": null,
   "metadata": {
    "collapsed": true
   },
   "outputs": [],
   "source": []
  }
 ],
 "metadata": {
  "anaconda-cloud": {},
  "kernelspec": {
   "display_name": "Python [conda root]",
   "language": "python",
   "name": "conda-root-py"
  },
  "language_info": {
   "codemirror_mode": {
    "name": "ipython",
    "version": 2
   },
   "file_extension": ".py",
   "mimetype": "text/x-python",
   "name": "python",
   "nbconvert_exporter": "python",
   "pygments_lexer": "ipython2",
   "version": "2.7.12"
  }
 },
 "nbformat": 4,
 "nbformat_minor": 1
}
