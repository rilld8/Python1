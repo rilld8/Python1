{
 "cells": [
  {
   "cell_type": "code",
   "execution_count": 4,
   "metadata": {
    "collapsed": true
   },
   "outputs": [],
   "source": [
    "import urllib.request as req\n",
    "import requests\n",
    "from bs4 import BeautifulSoup as bs"
   ]
  },
  {
   "cell_type": "code",
   "execution_count": 77,
   "metadata": {
    "collapsed": true
   },
   "outputs": [],
   "source": [
    "# urle ze strony logowania\n",
    "homepage2 = 'https://www.payback.pl/ekupony/login?originating_site=ekupony_login'\n",
    "homepage = 'https://www.packtpub.com/#'\n",
    "# otworzenie i sparsowanie strony\n",
    "html = req.urlopen(homepage2).read()\n",
    "soup = bs(html, \"html5lib\")"
   ]
  },
  {
   "cell_type": "code",
   "execution_count": 78,
   "metadata": {
    "scrolled": true
   },
   "outputs": [
    {
     "name": "stdout",
     "output_type": "stream",
     "text": [
      "<!DOCTYPE html>\n",
      "<html lang=\"pl\"><head>\n",
      "    <meta content=\"text/html;charset=utf-8\" http-equiv=\"Content-Type\"/>\n",
      "    <meta charset=\"utf-8\"/>\n",
      "    <meta content=\"IE=edge\" http-equiv=\"X-UA-Compatible\"/>\n",
      "    <meta content=\"width=device-width, initial-scale=1.0\" name=\"viewport\"/>\n",
      "    <title>PAYBACK</title>\n",
      "    <link href=\"https://www.payback.pl/statics/website/favicon.ico.gif\" rel=\"shortcut icon\" type=\"image/gif\"/>\n",
      "    <meta content='CP=\"CAO PSA OUR\"' http-equiv=\"P3P\"/>\n",
      "    <meta content=\"Loyalty Partner Polska Sp. z o.o.\" name=\"copyright\"/>\n",
      "    <meta content=\"PAYBACK Polska\" name=\"author\"/>\n",
      "    <meta content=\"all\" name=\"robots\"/>\n",
      "    <meta content=\"always\" name=\"referrer\"/>\n",
      "    <meta content=\"origin-when-cross-origin\" name=\"referrer\"/>\n",
      "    <meta content=\"katalog nagród, promocja internetowa, program payback, punkty payback, wymiana punktów na nagrody, karta payback, promocja z nagrodami, payback.pl, nagrody za punkty, rejestracja, partner, partnerzy, Regards\" name=\"keywords\"/>\n",
      "    <meta content=\"Zbieraj punkty PAYBACK za zakupy online. Ponad 100 sklepów internetowych. Codziennie nowe promocje, tysiące punktów do zebrania online. Skorzystaj!\" name=\"description\"/>\n",
      "    <meta content=\"NwUDDRfgue96Dvs3cfKRuxRPGZtiM0gS5MOwr9iSMqw\" name=\"google-site-verification\"/>\n",
      "    <meta content=\"app-id=486351800\" name=\"apple-itunes-app\"/>\n",
      "    <link href=\"https://www.payback.pl/statics/common/css/common.css\" rel=\"stylesheet\" type=\"text/css\"/>\n",
      "    <link href=\"https://www.payback.pl/statics/common/css/fonts.css\" rel=\"stylesheet\" type=\"text/css\"/>\n",
      "    <link href=\"https://www.payback.pl/statics/common/css/droid-sans.css\" rel=\"stylesheet\" type=\"text/css\"/><!--[if lte IE 8]>\n",
      "    <script src=\"//cdnjs.cloudflare.com/ajax/libs/json3/3.2.4/json3.min.js\"></script>\n",
      "    <![endif]-->\n",
      "    <script src=\"https://www.payback.pl/statics/common/js/jquery-1.9.1.min.js\" type=\"text/javascript\"></script>\n",
      "    <script src=\"https://www.payback.pl/statics/common/js/html5shiv.js\" type=\"text/javascript\"></script>\n",
      "    <script src=\"https://www.payback.pl/statics/common/js/common.js\" type=\"text/javascript\"></script>\n",
      "    <script src=\"https://www.payback.pl/statics/common/js/adverts.js\" type=\"text/javascript\"></script>\n",
      "    <link href=\"https://www.payback.pl/statics/website/css/style.css\" rel=\"stylesheet\" type=\"text/css\"/>\n",
      "    <script src=\"https://www.payback.pl/statics/website/js/app.js\" type=\"text/javascript\"></script>\n",
      "    <style id=\"antiClickjack\">body{display:none !important;}</style>\n",
      "    <script type=\"text/javascript\">\n",
      "      if (self === top || top.location.hostname.match(/(^|\\.)payback\\.pl$/)) {\n",
      "          var antiClickjack = document.getElementById(\"antiClickjack\");\n",
      "          antiClickjack.parentNode.removeChild(antiClickjack);\n",
      "      } else {\n",
      "          top.location = self.location;\n",
      "      }\n",
      "      \n",
      "    </script>\n",
      "    <!-- %INIT_DATA%-->\n",
      "  </head>\n",
      "  <body ng-app=\"website\" ng-class=\"bodyClass\" ng-cloak=\"\" ng-hide=\"delegateInProgress\">\n",
      "    <!-- Google Tag Manager -->\n",
      "    <noscript><iframe height=\"0\" src=\"//www.googletagmanager.com/ns.html?id=GTM-T223JM\" style=\"display:none;visibility:hidden\" width=\"0\"></iframe></noscript>\n",
      "    <script>(function(w,d,s,l,i){w[l]=w[l]||[];w[l].push({'gtm.start':\n",
      "    new Date().getTime(),event:'gtm.js'});var f=d.getElementsByTagName(s)[0],\n",
      "    j=d.createElement(s),dl=l!='dataLayer'?'&l='+l:'';j.async=true;j.src=\n",
      "    '//www.googletagmanager.com/gtm.js?id='+i+dl;f.parentNode.insertBefore(j,f);\n",
      "    })(window,document,'script','dataLayer','GTM-T223JM');</script>\n",
      "    <!-- End Google Tag Manager -->\n",
      "    <div id=\"page\">\n",
      "      <div id=\"header\" ng-controller=\"HeaderCtrl\">\n",
      "        <div class=\"bonus\" ng-include=\"bonus_template\"></div>\n",
      "        <div class=\"normal-header\">\n",
      "          <div class=\"header-wrap\">\n",
      "              <a class=\"logo\" href=\"http://www.payback.pl/\">\n",
      "                  <div class=\"normalLogo\"></div>\n",
      "                  <div class=\"mobileLogo\"></div>\n",
      "              </a>\n",
      "              <div class=\"container\" ng-include=\"header_template\">\n",
      "                  <a class=\"gl\" href=\"http://www.payback.pl/punkty-online\">Punkty online</a>\n",
      "                  <a class=\"gl\" href=\"http://miasto.payback.pl/\">Miasto PAYBACK</a>\n",
      "                  <a class=\"gl\" href=\"http://www.payback.pl/partnerzy\">Partnerzy PAYBACK</a>\n",
      "                  <a class=\"gl\" href=\"http://sklep.payback.pl\">Odbieraj nagrody</a>\n",
      "              </div>\n",
      "          </div>\n",
      "        </div>\n",
      "      </div>\n",
      "      <div id=\"header-spacer\"></div>\n",
      "      <div id=\"dashboard-holder\" ng-include=\"'dashboard.html'\"></div>\n",
      "      <div id=\"app\" ng-cloak=\"\" ng-hide=\"renderingInProgress || transitionInProgress\" ng-view=\"\">\n",
      "      </div>\n",
      "    </div>\n",
      "    <div id=\"divider\"></div>\n",
      "    <div class=\"pb-common\" id=\"footer\" ng-if=\"showFooter\" ng-include=\"'footer.html'\"></div>\n",
      "    <div id=\"bdnl-popup\" ng-include=\"'bdnl_remodal.html'\" style=\"display: none;\"></div>\n",
      "    <div id=\"parallax-add\" ng-controller=\"ParallaxCtrl\" ng-if=\"showParallax\" ng-include=\"'parallax.html'\"></div>\n",
      "  \n",
      "</body></html>\n"
     ]
    }
   ],
   "source": [
    "print(soup)"
   ]
  },
  {
   "cell_type": "code",
   "execution_count": 79,
   "metadata": {},
   "outputs": [
    {
     "name": "stdout",
     "output_type": "stream",
     "text": [
      "{}\n"
     ]
    }
   ],
   "source": [
    "import lxml.html\n",
    "\n",
    "def parse_form(link):\n",
    "    tree = lxml.html.fromstring(link)\n",
    "    data = {}\n",
    "    for e in tree.cssselect('div ul form input'):\n",
    "        data[e.get('')] = e.get('')\n",
    "    return data\n",
    "\n",
    "html = req.urlopen(homepage).read()\n",
    "pprint(parse_form(html))"
   ]
  },
  {
   "cell_type": "code",
   "execution_count": 83,
   "metadata": {
    "collapsed": true
   },
   "outputs": [],
   "source": [
    "import lxml.html\n",
    "import lxml.cssselect\n",
    "from pprint import pprint\n",
    "\n",
    "html = req.urlopen(homepage2).read()\n",
    "tree = lxml.html.fromstring(html)\n",
    "for e in tree.cssselect('form input'):\n",
    "    print(e.get(''))"
   ]
  },
  {
   "cell_type": "code",
   "execution_count": null,
   "metadata": {
    "collapsed": true
   },
   "outputs": [],
   "source": []
  }
 ],
 "metadata": {
  "kernelspec": {
   "display_name": "Python 3",
   "language": "python",
   "name": "python3"
  },
  "language_info": {
   "codemirror_mode": {
    "name": "ipython",
    "version": 3
   },
   "file_extension": ".py",
   "mimetype": "text/x-python",
   "name": "python",
   "nbconvert_exporter": "python",
   "pygments_lexer": "ipython3",
   "version": "3.6.1"
  }
 },
 "nbformat": 4,
 "nbformat_minor": 2
}
